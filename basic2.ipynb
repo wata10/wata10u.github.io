{
  "cells": [
    {
      "cell_type": "code",
      "execution_count": 1,
      "metadata": {
        "id": "DkY9avHxn756",
        "outputId": "fd6e0ce8-0a90-4e99-ff15-2245b914c093",
        "colab": {
          "base_uri": "https://localhost:8080/"
        }
      },
      "outputs": [
        {
          "output_type": "stream",
          "name": "stdout",
          "text": [
            "Requirement already satisfied: ccml2021 in /usr/local/lib/python3.11/dist-packages (0.4.5)\n",
            "Requirement already satisfied: emoji>=2.14.1 in /usr/local/lib/python3.11/dist-packages (from ccml2021) (2.14.1)\n",
            "Requirement already satisfied: numpy==1.26.4 in /usr/local/lib/python3.11/dist-packages (from ccml2021) (1.26.4)\n",
            "Requirement already satisfied: rdkit-pypi==2022.9.5 in /usr/local/lib/python3.11/dist-packages (from ccml2021) (2022.9.5)\n",
            "Requirement already satisfied: Pillow in /usr/local/lib/python3.11/dist-packages (from rdkit-pypi==2022.9.5->ccml2021) (11.2.1)\n"
          ]
        }
      ],
      "source": [
        "# このコードは変更しない\n",
        "!pip install -U ccml2021\n",
        "# You must restart the runtimeとメッセージが出たら、ランタイムを再起動する"
      ]
    },
    {
      "cell_type": "code",
      "execution_count": 2,
      "metadata": {
        "id": "IcOV3uHioC7h"
      },
      "outputs": [],
      "source": [
        "#（ここからコードを書いていく）"
      ]
    },
    {
      "cell_type": "code",
      "execution_count": 3,
      "metadata": {
        "id": "9FGtRFVRqNLu",
        "outputId": "d7a6ee03-7e04-43d0-cf92-6e324d3aef30",
        "colab": {
          "base_uri": "https://localhost:8080/"
        }
      },
      "outputs": [
        {
          "output_type": "stream",
          "name": "stdout",
          "text": [
            "/content/drive/MyDrive/ccp_ML\n"
          ]
        }
      ],
      "source": [
        "%cd /content/drive/MyDrive/ccp_ML"
      ]
    },
    {
      "cell_type": "code",
      "source": [
        "!python basic2.py iris_X.txt"
      ],
      "metadata": {
        "id": "8KIII-vNTYQV"
      },
      "execution_count": 5,
      "outputs": []
    },
    {
      "cell_type": "markdown",
      "metadata": {
        "id": "ZHVa_yRcpkZW"
      },
      "source": [
        "## 考察記入欄\n",
        "\n",
        "（このセル内に考察を書く）"
      ]
    },
    {
      "cell_type": "markdown",
      "metadata": {
        "id": "unAKDAZhpnuX"
      },
      "source": [
        "## 感想記入欄\n",
        "\n",
        "（このセル内に感想を書く）"
      ]
    },
    {
      "cell_type": "markdown",
      "metadata": {
        "id": "uSqLYKJgp5Sz"
      },
      "source": [
        "## 変数名、ファイル名の最終チェック\n",
        "\n",
        "以下のコードは変更しないでください。\n",
        "\n",
        "実行することで、上のコードが想定通りの変数名、ファイル名を使用しているかをチェックできます。"
      ]
    },
    {
      "cell_type": "code",
      "execution_count": 6,
      "metadata": {
        "id": "D9-ODqWboDWp",
        "outputId": "1d712588-ae63-478c-d582-247df821c34e",
        "colab": {
          "base_uri": "https://localhost:8080/"
        }
      },
      "outputs": [
        {
          "output_type": "stream",
          "name": "stdout",
          "text": [
            "👍 正しいファイル名です。問題番号と対応しているか確認してください。 / The file name is correct. Please ensure it corresponds to the problem number.\n",
            "⚠️ ファイルの存在確認のみ行っています。内容が正しいかどうかは確認していません / This solely confirms the existence of the expected files, without assuring the relevance of their contents.\n",
            "  👍 file `/content/drive/MyDrive/ccp_ML/basic2.py` exists\n",
            "  🚧 file `/content/drive/MyDrive/ccp_ML/iris_X_0/statistics.csv` not found\n"
          ]
        }
      ],
      "source": [
        "from ccml2021.checker import basic2\n",
        "\n",
        "basic2(globals())"
      ]
    }
  ],
  "metadata": {
    "colab": {
      "provenance": []
    },
    "kernelspec": {
      "display_name": "Python 3",
      "name": "python3"
    },
    "language_info": {
      "name": "python"
    }
  },
  "nbformat": 4,
  "nbformat_minor": 0
}